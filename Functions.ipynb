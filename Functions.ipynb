{
  "nbformat": 4,
  "nbformat_minor": 0,
  "metadata": {
    "colab": {
      "provenance": []
    },
    "kernelspec": {
      "name": "python3",
      "display_name": "Python 3"
    },
    "language_info": {
      "name": "python"
    }
  },
  "cells": [
    {
      "cell_type": "markdown",
      "source": [
        "#Functions\n",
        "\n",
        "\n",
        "1. What is Python, and why is it popular ?\n",
        "\n",
        "Ans- Python is a high-level, interpreted programming language known for its readability, simplicity, and versatility. It is popular due to:\n",
        "\n",
        "Easy-to-read syntax\n",
        "Extensive standard libraries\n",
        "Strong community support\n",
        "Cross-platform compatibility\n",
        "Use in various fields like web development, data science, automation, AI, and machine learning\n",
        "\n",
        "2. What is an interpreter in Python?\n",
        "\n",
        "Ans-An interpreter is a program that executes Python code line by line, converting it into machine code that the computer can understand. Python uses an interpreter instead of a compiler, making debugging easier and execution dynamic.\n",
        "\n",
        "3. What are pre-defined keywords in Python?\n",
        "\n",
        "Ans-Pre-defined keywords are reserved words in Python that have special meanings and cannot be used as variable names. Examples include:\n",
        "if, else, while, for, def, return, import, break, continue, try, except, class, True, False, None, and, or, not.\n",
        "\n",
        "4. Can keywords be used as variable names?\n",
        "\n",
        "Ans-No, Python keywords cannot be used as variable names because they have predefined meanings and would cause syntax errors.\n",
        "\n",
        "5. What is mutability in Python?\n",
        "\n",
        "Ans-Mutability refers to whether an object’s value can be changed after its creation.\n",
        "\n",
        "Mutable objects: Can be modified (e.g., lists, dictionaries, sets)\n",
        "Immutable objects: Cannot be modified (e.g., strings, tuples, numbers).\n",
        "\n",
        "6. Why are lists mutable, but tuples are immutable ?\n",
        "\n",
        "Ans-Lists are mutable because they are designed for dynamic storage, allowing modification after creation.\n",
        "Tuples are immutable to ensure data integrity and performance optimization, making them hashable and suitable for use as dictionary keys.\n",
        "\n",
        "7. What is the difference between “==” and “is” operators in Python ?\n",
        "\n",
        "Ans- == checks value equality (whether two variables have the same value).\n",
        "is checks identity equality (whether two variables refer to the same memory location).\n",
        "\n",
        "8. What are logical operators in Python ?\n",
        "\n",
        "Ans-Logical operators are used to perform logical operations:\n",
        "\n",
        "and – Returns True if both conditions are true\n",
        "or – Returns True if at least one condition is true\n",
        "not – Reverses the truth value\n",
        "\n",
        "9. What is type casting in Python?\n",
        "\n",
        "Ans- Type casting is converting one data type into another. Python supports:\n",
        "\n",
        "Implicit type casting: Automatic conversion by Python\n",
        "Explicit type casting: Manual conversion using functions like int(), float(), str(), etc.\n",
        "\n",
        "10. What is the difference between implicit and explicit type casting ?\n",
        "\n",
        "Ans - The difference between implicit and explicit type casting in Python is:\n",
        "\n",
        "1. Implicit Type Casting (Automatic Conversion)\n",
        "Python automatically converts one data type to another when no data loss occurs.\n",
        "This happens when a smaller data type (e.g., int) is converted to a larger data type (e.g., float).\n",
        "\n",
        "2. Explicit Type Casting (Manual Conversion)\n",
        "The programmer manually converts a data type using functions like int(), float(), str(), etc.\n",
        "Used when Python does not perform automatic conversion.\n",
        "\n",
        "11. What is the purpose of conditional statements in Python?\n",
        "\n",
        "Ans-Conditional statements control the flow of execution based on conditions, enabling decision-making in a program. Examples:\n",
        "\n",
        "if: Executes code if a condition is true\n",
        "elif: Adds additional conditions\n",
        "else: Executes if no conditions are met\n",
        "\n",
        "12 How does the elif statement work?\n",
        "\n",
        "Ans-The elif statement provides multiple conditions in an if block. If the first condition is false, it checks the next elif condition. If no conditions match, the else block runs.\n",
        "\n",
        "13 What is the difference between for and while loops ?\n",
        "\n",
        "Ans-for loop is used when the number of iterations is known in advance (iterates over a sequence).\n",
        "while loop is used when iterations depend on a condition (executed until the condition becomes false).\n",
        "\n",
        "14 Describe a scenario where a while loop is more suitable than a for loop ?\n",
        "\n",
        "Ans-A while loop is better when the number of iterations is unknown beforehand, such as:\n",
        "\n",
        "Reading user input until valid data is entered\n",
        "Running a program until a certain condition is met"
      ],
      "metadata": {
        "id": "K3JfSUFm5wXY"
      }
    },
    {
      "cell_type": "code",
      "source": [
        "#1. Write a Python program to print \"Hello, World!\"\n",
        "\n",
        "print(\"Hello, World!\")"
      ],
      "metadata": {
        "colab": {
          "base_uri": "https://localhost:8080/"
        },
        "id": "NppXypV85vq9",
        "outputId": "c805b029-f5a2-416b-b236-2f3594c0e919"
      },
      "execution_count": 1,
      "outputs": [
        {
          "output_type": "stream",
          "name": "stdout",
          "text": [
            "Hello, World!\n"
          ]
        }
      ]
    },
    {
      "cell_type": "code",
      "execution_count": 2,
      "metadata": {
        "colab": {
          "base_uri": "https://localhost:8080/"
        },
        "id": "9XROvHZ03oXc",
        "outputId": "610924e4-70be-47cc-88b9-0ea84ac21df1"
      },
      "outputs": [
        {
          "output_type": "stream",
          "name": "stdout",
          "text": [
            "My name is Subham Agarwal and I am 18 years old.\n"
          ]
        }
      ],
      "source": [
        "#2. Write a Python program that displays your name and age\n",
        "\n",
        "name = \"Subham Agarwal\"\n",
        "age = 18\n",
        "print(f\"My name is {name} and I am {age} years old.\")"
      ]
    },
    {
      "cell_type": "code",
      "source": [
        "#3.Write code to print all the pre-defined keywords in Python using the keyword library ?\n",
        "\n",
        "import keyword\n",
        "print(keyword.kwlist)\n"
      ],
      "metadata": {
        "colab": {
          "base_uri": "https://localhost:8080/"
        },
        "id": "olXfdn2V9Fnn",
        "outputId": "31d9e28f-3361-437a-e232-732df7c9d882"
      },
      "execution_count": 3,
      "outputs": [
        {
          "output_type": "stream",
          "name": "stdout",
          "text": [
            "['False', 'None', 'True', 'and', 'as', 'assert', 'async', 'await', 'break', 'class', 'continue', 'def', 'del', 'elif', 'else', 'except', 'finally', 'for', 'from', 'global', 'if', 'import', 'in', 'is', 'lambda', 'nonlocal', 'not', 'or', 'pass', 'raise', 'return', 'try', 'while', 'with', 'yield']\n"
          ]
        }
      ]
    },
    {
      "cell_type": "code",
      "source": [
        "# 4.Write a program that checks if a given word is a Python keyword\n",
        "\n",
        "import keyword\n",
        "\n",
        "word = input(\"Enter a word: \")\n",
        "if keyword.iskeyword(word):\n",
        "    print(f\"'{word}' is a Python keyword.\")\n",
        "else:\n",
        "    print(f\"'{word}' is NOT a Python keyword.\")\n"
      ],
      "metadata": {
        "colab": {
          "base_uri": "https://localhost:8080/"
        },
        "id": "gCw4q3HZBgQi",
        "outputId": "278189b8-b219-49f3-8827-eb787a208878"
      },
      "execution_count": 4,
      "outputs": [
        {
          "output_type": "stream",
          "name": "stdout",
          "text": [
            "Enter a word: rahul\n",
            "'rahul' is NOT a Python keyword.\n"
          ]
        }
      ]
    },
    {
      "cell_type": "code",
      "source": [
        "'''5. Create a list and tuple in Python, and demonstrate how attempting to change an element works differently\n",
        "for each.'''\n",
        "# Creating a list (Mutable)\n",
        "my_list = [1, 2, 3]\n",
        "print(\"Original List:\", my_list)\n",
        "\n",
        "# Modifying an element in the list\n",
        "my_list[1] = 99  # Allowed\n",
        "print(\"Modified List:\", my_list)\n",
        "\n",
        "# Creating a tuple (Immutable)\n",
        "my_tuple = (1, 2, 3)\n",
        "print(\"\\nOriginal Tuple:\", my_tuple)\n",
        "\n",
        "# Attempting to modify an element in the tuple (Will raise an error)\n",
        "try:\n",
        "    my_tuple[1] = 99  # Not Allowed\n",
        "except TypeError as e:\n",
        "    print(\"Error:\", e)\n"
      ],
      "metadata": {
        "colab": {
          "base_uri": "https://localhost:8080/"
        },
        "id": "2h0Kwix_Cixo",
        "outputId": "6a48989d-cb6f-4141-9330-41468d335bbb"
      },
      "execution_count": 7,
      "outputs": [
        {
          "output_type": "stream",
          "name": "stdout",
          "text": [
            "Original List: [1, 2, 3]\n",
            "Modified List: [1, 99, 3]\n",
            "\n",
            "Original Tuple: (1, 2, 3)\n",
            "Error: 'tuple' object does not support item assignment\n"
          ]
        }
      ]
    },
    {
      "cell_type": "code",
      "source": [
        "#6.Write a function to demonstrate the behavior of mutable and immutable arguments.\n",
        "\n",
        "def demo_mutable_immutable(num, lst):\n",
        "    num += 10  # Immutable (int) - changes won't reflect outside\n",
        "    lst.append(4)  # Mutable (list) - changes will reflect outside\n",
        "\n",
        "x = 5\n",
        "y = [1, 2, 3]\n",
        "demo_mutable_immutable(x, y)\n",
        "\n",
        "print(\"Immutable variable:\", x)  # Output: 5 (unchanged)\n",
        "print(\"Mutable variable:\", y)  # Output: [1, 2, 3, 4] (modified)\n",
        "\n",
        "\n"
      ],
      "metadata": {
        "colab": {
          "base_uri": "https://localhost:8080/"
        },
        "id": "KkX_EFyNBsnv",
        "outputId": "f0f89fe0-bf2f-4f98-e1de-fc59b0a134ae"
      },
      "execution_count": 5,
      "outputs": [
        {
          "output_type": "stream",
          "name": "stdout",
          "text": [
            "Immutable variable: 5\n",
            "Mutable variable: [1, 2, 3, 4]\n"
          ]
        }
      ]
    },
    {
      "cell_type": "markdown",
      "source": [
        "\n",
        "\n",
        "> Add blockquote\n",
        "\n"
      ],
      "metadata": {
        "id": "VjEUzW-cB5Pa"
      }
    },
    {
      "cell_type": "code",
      "source": [
        "# 7.Write a program that performs basic arithmetic operations on two user-input numbers\n",
        "\n",
        "a = float(input(\"Enter first number: \"))\n",
        "b = float(input(\"Enter second number: \"))\n",
        "\n",
        "print(f\"Sum: {a + b}\")\n",
        "print(f\"Difference: {a - b}\")\n",
        "print(f\"Product: {a * b}\")\n",
        "print(f\"Quotient: {a / b}\" if b != 0 else \"Cannot divide by zero\")\n"
      ],
      "metadata": {
        "colab": {
          "base_uri": "https://localhost:8080/"
        },
        "id": "9TJRRckuB8P_",
        "outputId": "7248a217-6f08-4762-9b77-f516c1196236"
      },
      "execution_count": 6,
      "outputs": [
        {
          "output_type": "stream",
          "name": "stdout",
          "text": [
            "Enter first number: 56\n",
            "Enter second number: 65\n",
            "Sum: 121.0\n",
            "Difference: -9.0\n",
            "Product: 3640.0\n",
            "Quotient: 0.8615384615384616\n"
          ]
        }
      ]
    },
    {
      "cell_type": "code",
      "source": [
        "# 8. Write a program to demonstrate the use of logical operators.\n",
        "x = 10\n",
        "y = 20\n",
        "print(x > 5 and y < 30)  # True\n",
        "print(x > 15 or y < 25)  # True\n",
        "print(not (x > 5))       # False\n"
      ],
      "metadata": {
        "colab": {
          "base_uri": "https://localhost:8080/"
        },
        "id": "j7kz_oJVCKhx",
        "outputId": "976b3dfc-0b13-4711-9527-0c865e118bcb"
      },
      "execution_count": 8,
      "outputs": [
        {
          "output_type": "stream",
          "name": "stdout",
          "text": [
            "True\n",
            "True\n",
            "False\n"
          ]
        }
      ]
    },
    {
      "cell_type": "code",
      "source": [
        "#9. Write a Python program to convert user input from string to integer, float, and boolean types\n",
        "\n",
        "user_input = input(\"Enter a value: \")\n",
        "\n",
        "int_value = int(user_input) if user_input.isdigit() else \"Invalid\"\n",
        "float_value = float(user_input) if user_input.replace('.', '', 1).isdigit() else \"Invalid\"\n",
        "bool_value = bool(user_input)\n",
        "\n",
        "print(f\"Integer: {int_value}, Float: {float_value}, Boolean: {bool_value}\")\n"
      ],
      "metadata": {
        "colab": {
          "base_uri": "https://localhost:8080/"
        },
        "id": "pO-ffwiSC5ez",
        "outputId": "1f0a0669-4595-40d0-a229-2442772a3b33"
      },
      "execution_count": 9,
      "outputs": [
        {
          "output_type": "stream",
          "name": "stdout",
          "text": [
            "Enter a value: 123\n",
            "Integer: 123, Float: 123.0, Boolean: True\n"
          ]
        }
      ]
    },
    {
      "cell_type": "code",
      "source": [
        "#10. Write code to demonstrate type casting with list elements.\n",
        "numbers = [\"10\", \"20.5\", \"30\"]\n",
        "\n",
        "int_list = [int(num) for num in numbers if num.isdigit()]\n",
        "float_list = [float(num) for num in numbers]\n",
        "\n",
        "print(\"Integer List:\", int_list)\n",
        "print(\"Float List:\", float_list)\n"
      ],
      "metadata": {
        "colab": {
          "base_uri": "https://localhost:8080/"
        },
        "id": "N4oWTy6hDD24",
        "outputId": "96868dad-8a37-43d4-b59d-6ba2754ed33e"
      },
      "execution_count": 10,
      "outputs": [
        {
          "output_type": "stream",
          "name": "stdout",
          "text": [
            "Integer List: [10, 30]\n",
            "Float List: [10.0, 20.5, 30.0]\n"
          ]
        }
      ]
    },
    {
      "cell_type": "code",
      "source": [
        "#11. Write a program that checks if a number is positive, negative, or zero\n",
        "num = float(input(\"Enter a number: \"))\n",
        "\n",
        "if num > 0:\n",
        "    print(\"Positive\")\n",
        "elif num < 0:\n",
        "    print(\"Negative\")\n",
        "else:\n",
        "    print(\"Zero\")\n",
        "\n"
      ],
      "metadata": {
        "colab": {
          "base_uri": "https://localhost:8080/"
        },
        "id": "GQjYcx1rDORI",
        "outputId": "64ece5da-d5f2-452c-e770-ba81df86f418"
      },
      "execution_count": 11,
      "outputs": [
        {
          "output_type": "stream",
          "name": "stdout",
          "text": [
            "Enter a number: -98\n",
            "Negative\n"
          ]
        }
      ]
    },
    {
      "cell_type": "code",
      "source": [
        "#12 Write a for loop to print numbers from 1 to 10.\n",
        "\n",
        "\n",
        "for i in range(1, 11):\n",
        "    print(i)\n",
        "\n"
      ],
      "metadata": {
        "colab": {
          "base_uri": "https://localhost:8080/"
        },
        "id": "XAhnu2QNDTx3",
        "outputId": "05a56e05-774a-4f32-89bc-23cc5c00c83d"
      },
      "execution_count": 12,
      "outputs": [
        {
          "output_type": "stream",
          "name": "stdout",
          "text": [
            "1\n",
            "2\n",
            "3\n",
            "4\n",
            "5\n",
            "6\n",
            "7\n",
            "8\n",
            "9\n",
            "10\n"
          ]
        }
      ]
    },
    {
      "cell_type": "code",
      "source": [
        "#13. Write a Python program to find the sum of all even numbers between 1 and 50.\n",
        "sum_even = sum(i for i in range(1, 51) if i % 2 == 0)\n",
        "print(\"Sum of even numbers between 1 and 50:\", sum_even)\n"
      ],
      "metadata": {
        "colab": {
          "base_uri": "https://localhost:8080/"
        },
        "id": "pcgsao2-DbcW",
        "outputId": "f5f4efc9-d6fd-44ac-e3a5-8332866494a3"
      },
      "execution_count": 13,
      "outputs": [
        {
          "output_type": "stream",
          "name": "stdout",
          "text": [
            "Sum of even numbers between 1 and 50: 650\n"
          ]
        }
      ]
    },
    {
      "cell_type": "code",
      "source": [
        "#14. Write a program to reverse a string using a while loop.\n",
        "text = input(\"Enter a string: \")\n",
        "reversed_text = \"\"\n",
        "i = len(text) - 1\n",
        "\n",
        "while i >= 0:\n",
        "    reversed_text += text[i]\n",
        "    i -= 1\n",
        "\n",
        "print(\"Reversed String:\", reversed_text)\n"
      ],
      "metadata": {
        "colab": {
          "base_uri": "https://localhost:8080/"
        },
        "id": "iedYdZtnDgtQ",
        "outputId": "27fc00ad-81dd-4c47-faf5-1e58adcd00c1"
      },
      "execution_count": 14,
      "outputs": [
        {
          "output_type": "stream",
          "name": "stdout",
          "text": [
            "Enter a string: 9876543\n",
            "Reversed String: 3456789\n"
          ]
        }
      ]
    },
    {
      "cell_type": "code",
      "source": [
        "#15 Write a Python program to calculate the factorial of a number provided by the user using a while loop.\n",
        "num = int(input(\"Enter a number: \"))\n",
        "factorial = 1\n",
        "i = 1\n",
        "\n",
        "while i <= num:\n",
        "    factorial *= i\n",
        "    i += 1\n",
        "\n",
        "print(f\"Factorial of {num} is {factorial}\")\n"
      ],
      "metadata": {
        "colab": {
          "base_uri": "https://localhost:8080/"
        },
        "id": "jbEQ14H1Dl-d",
        "outputId": "1e94ae29-598b-4950-91e7-cd31ccf0809e"
      },
      "execution_count": 15,
      "outputs": [
        {
          "output_type": "stream",
          "name": "stdout",
          "text": [
            "Enter a number: 123\n",
            "Factorial of 123 is 12146304367025329675766243241881295855454217088483382315328918161829235892362167668831156960612640202170735835221294047782591091570411651472186029519906261646730733907419814952960000000000000000000000000000\n"
          ]
        }
      ]
    },
    {
      "cell_type": "markdown",
      "source": [],
      "metadata": {
        "id": "Z-NtZUXxCG68"
      }
    },
    {
      "cell_type": "markdown",
      "source": [],
      "metadata": {
        "id": "hTfFiXg3Bo3f"
      }
    }
  ]
}